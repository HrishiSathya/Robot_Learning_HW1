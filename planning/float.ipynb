{
 "cells": [
  {
   "cell_type": "code",
   "execution_count": 1,
   "metadata": {},
   "outputs": [
    {
     "name": "stdout",
     "output_type": "stream",
     "text": [
      "[0.21994938, -0.02287239, 0.23649366, -0.06581353, 0.24398018, -0.11440045, 0.24104177, -0.16691342, 0.22683038, -0.22053311, 0.20370221, -0.26860909, 0.20830923, -0.27574794, 0.30983981, -0.25001453, 0.33801158, -0.23420759, 0.3761934, -0.20391059, 0.38292016, -0.20328342, 0.39926531, -0.20121078, 0.2779442, 0.4126437, -0.19899026, 0.43226943, -0.19484579, 0.2891592, 0.45073846, -0.19014334, 0.46121067, -0.18708026, 0.46479789, -0.18588273, 0.49228683, -0.16514677, 0.51704374, -0.14730528, 0.53539825, -0.13780022, 0.55336504, -0.13776074, 0.3000021, 0.56040512, -0.13817055, 0.57824486, -0.13886529, 0.58322083, -0.13853027, 0.6004694, -0.1332047, 0.61301551, -0.12333954, 0.6183187, -0.11436867, 0.62663956, -0.09908456, 0.63807732, -0.07510892, 0.64190773, -0.06603661]\n"
     ]
    }
   ],
   "source": [
    "with open('joint_space_full_traj_dist/shortest_path_env_0_goal_1_traj_1.txt', 'r') as f:\n",
    "    data = f.read().split()\n",
    "    floats = []\n",
    "    for elem in data:\n",
    "        try:\n",
    "            floats.append(float(elem))\n",
    "        except ValueError:\n",
    "            pass\n",
    "    print(floats)"
   ]
  },
  {
   "cell_type": "code",
   "execution_count": 28,
   "metadata": {},
   "outputs": [
    {
     "name": "stdout",
     "output_type": "stream",
     "text": [
      "0.39883781990261735\n",
      "0.40726163302256413\n",
      "0.46494698566726445\n",
      "0.4986140182130596\n",
      "0.4659240072461062\n",
      "0.4286966424552353\n",
      "0.4189081150217067\n",
      "0.3902783992079138\n",
      "0.3683457273215946\n",
      "0.3555892060226488\n",
      "0.3187197212378798\n",
      "0.28090487775083034\n",
      "0.24763215080573786\n",
      "0.24488024228604582\n",
      "0.24452922615308154\n",
      "0.2445563169697097\n",
      "0.2449006453729318\n",
      "0.1915277314657264\n",
      "0.14317737524379853\n",
      "0.11413544554268712\n",
      "0.05217379549215394\n",
      "0.03314021773311248\n",
      "6.943937931750287e-05\n",
      "6.943937931750287e-05\n"
     ]
    }
   ],
   "source": [
    "import numpy as np\n",
    "with open('joint_space_full_traj_dist/shortest_path_env_0_goal_1_traj_3.txt', 'r') as f:\n",
    "    temps = []\n",
    "    for line in f.readlines():\n",
    "        line = line[1:-2]\n",
    "        line = line.strip()\n",
    "        # print(line)\n",
    "        a = [float(x) for x in line.split()]\n",
    "        temps.append(a)\n",
    "    # print(len(temps[14]))\n",
    "\n",
    "goal = np.array([0.642, -0.066, 0.245])\n",
    "for ele in temps:\n",
    "    print(np.linalg.norm(goal - np.asarray(ele)))"
   ]
  }
 ],
 "metadata": {
  "kernelspec": {
   "display_name": "Python 3",
   "language": "python",
   "name": "python3"
  },
  "language_info": {
   "codemirror_mode": {
    "name": "ipython",
    "version": 3
   },
   "file_extension": ".py",
   "mimetype": "text/x-python",
   "name": "python",
   "nbconvert_exporter": "python",
   "pygments_lexer": "ipython3",
   "version": "3.10.12"
  }
 },
 "nbformat": 4,
 "nbformat_minor": 2
}
